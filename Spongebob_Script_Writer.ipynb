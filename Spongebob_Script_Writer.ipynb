{
  "nbformat": 4,
  "nbformat_minor": 0,
  "metadata": {
    "colab": {
      "name": "Spongebob Script Writer",
      "provenance": [],
      "collapsed_sections": [],
      "include_colab_link": true
    },
    "kernelspec": {
      "name": "python3",
      "display_name": "Python 3"
    },
    "accelerator": "GPU"
  },
  "cells": [
    {
      "cell_type": "markdown",
      "metadata": {
        "id": "view-in-github",
        "colab_type": "text"
      },
      "source": [
        "<a href=\"https://colab.research.google.com/github/mikhailgaerlan/TV-Show-Script-Writer/blob/master/Spongebob_Script_Writer.ipynb\" target=\"_parent\"><img src=\"https://colab.research.google.com/assets/colab-badge.svg\" alt=\"Open In Colab\"/></a>"
      ]
    },
    {
      "cell_type": "markdown",
      "metadata": {
        "id": "xA5DO8Tmgx1N"
      },
      "source": [
        "# TV Show Script Generator\n",
        "\n",
        "Finetuning `gpt-2-simple` on Spongebob Squarepants television show scripts scraped from Transcripts Wiki\n",
        "\n",
        "by [Mikhail Gaerlan](https://www.math.ucdavis.edu/~mgaerlan)\n",
        "\n",
        "Last updated: November 4, 2020\n",
        "\n",
        "Based on work by [Max Woolf](http://minimaxir.com)\n",
        "\n",
        "Please check out the original copy first [here](https://www.google.com/url?sa=t&rct=j&q=&esrc=s&source=web&cd=&cad=rja&uact=8&ved=2ahUKEwijivWvwunsAhVGlVkKHQIkDG4QFjAAegQIBhAC&url=https%3A%2F%2Fcolab.research.google.com%2Fdrive%2F1VLG8e7YSEwypxU-noRNhsv5dW4NfTGce&usg=AOvVaw3W9t1DOZAaccv3zapLUhge)."
      ]
    },
    {
      "cell_type": "markdown",
      "metadata": {
        "id": "EIrMR7_Jc5y9"
      },
      "source": [
        "## Installation and Version Requirements\n",
        "\n",
        "GPT 2 Simple Requires Tensorflow 1.14/1.15 which is not supported above Python 3.8"
      ]
    },
    {
      "cell_type": "code",
      "metadata": {
        "id": "pkFUmFP4b1Hj",
        "outputId": "0b7dc6a2-1e2d-4f62-e178-ac9f43726a93",
        "colab": {
          "base_uri": "https://localhost:8080/"
        }
      },
      "source": [
        "from platform import python_version\n",
        "print(python_version())"
      ],
      "execution_count": 1,
      "outputs": [
        {
          "output_type": "stream",
          "text": [
            "3.6.9\n"
          ],
          "name": "stdout"
        }
      ]
    },
    {
      "cell_type": "code",
      "metadata": {
        "id": "KBkpRgBCBS2_",
        "outputId": "dfafedcc-b300-480c-c6c5-2799321860ce",
        "colab": {
          "base_uri": "https://localhost:8080/"
        }
      },
      "source": [
        "%tensorflow_version 1.x\n",
        "!pip install -q gpt-2-simple\n",
        "import gpt_2_simple as gpt2\n",
        "from datetime import datetime\n",
        "from google.colab import files"
      ],
      "execution_count": 2,
      "outputs": [
        {
          "output_type": "stream",
          "text": [
            "TensorFlow 1.x selected.\n",
            "WARNING:tensorflow:\n",
            "The TensorFlow contrib module will not be included in TensorFlow 2.0.\n",
            "For more information, please see:\n",
            "  * https://github.com/tensorflow/community/blob/master/rfcs/20180907-contrib-sunset.md\n",
            "  * https://github.com/tensorflow/addons\n",
            "  * https://github.com/tensorflow/io (for I/O related ops)\n",
            "If you depend on functionality not listed there, please file an issue.\n",
            "\n"
          ],
          "name": "stdout"
        }
      ]
    },
    {
      "cell_type": "code",
      "metadata": {
        "id": "9zN1f74Pb61v",
        "outputId": "9e748038-aea9-435b-a51e-5f4ccdca2f2f",
        "colab": {
          "base_uri": "https://localhost:8080/",
          "height": 37
        }
      },
      "source": [
        "import tensorflow as tf\n",
        "tf.__version__"
      ],
      "execution_count": 3,
      "outputs": [
        {
          "output_type": "execute_result",
          "data": {
            "application/vnd.google.colaboratory.intrinsic+json": {
              "type": "string"
            },
            "text/plain": [
              "'1.15.2'"
            ]
          },
          "metadata": {
            "tags": []
          },
          "execution_count": 3
        }
      ]
    },
    {
      "cell_type": "code",
      "metadata": {
        "id": "sUmTooTW3osf",
        "outputId": "d52693e7-29f5-466b-950e-41fe08530d86",
        "colab": {
          "base_uri": "https://localhost:8080/"
        }
      },
      "source": [
        "!nvidia-smi"
      ],
      "execution_count": 4,
      "outputs": [
        {
          "output_type": "stream",
          "text": [
            "Wed Nov  4 18:51:29 2020       \n",
            "+-----------------------------------------------------------------------------+\n",
            "| NVIDIA-SMI 455.32.00    Driver Version: 418.67       CUDA Version: 10.1     |\n",
            "|-------------------------------+----------------------+----------------------+\n",
            "| GPU  Name        Persistence-M| Bus-Id        Disp.A | Volatile Uncorr. ECC |\n",
            "| Fan  Temp  Perf  Pwr:Usage/Cap|         Memory-Usage | GPU-Util  Compute M. |\n",
            "|                               |                      |               MIG M. |\n",
            "|===============================+======================+======================|\n",
            "|   0  Tesla P100-PCIE...  Off  | 00000000:00:04.0 Off |                    0 |\n",
            "| N/A   33C    P0    25W / 250W |      0MiB / 16280MiB |      0%      Default |\n",
            "|                               |                      |                 ERR! |\n",
            "+-------------------------------+----------------------+----------------------+\n",
            "                                                                               \n",
            "+-----------------------------------------------------------------------------+\n",
            "| Processes:                                                                  |\n",
            "|  GPU   GI   CI        PID   Type   Process name                  GPU Memory |\n",
            "|        ID   ID                                                   Usage      |\n",
            "|=============================================================================|\n",
            "|  No running processes found                                                 |\n",
            "+-----------------------------------------------------------------------------+\n"
          ],
          "name": "stdout"
        }
      ]
    },
    {
      "cell_type": "markdown",
      "metadata": {
        "id": "0wXB05bPDYxS"
      },
      "source": [
        "## Downloading GPT-2\n",
        "\n",
        "* `124M` (default): the \"small\" model, 500MB on disk.\n",
        "* `355M`: the \"medium\" model, 1.5GB on disk.\n",
        "* `774M`: the \"large\" model, cannot currently be finetuned with Colaboratory but can be used to generate text from the pretrained model (see later in Notebook)\n",
        "* `1558M`: the \"extra large\", true model. Will not work if a K80 GPU is attached to the notebook. (like `774M`, it cannot be finetuned)."
      ]
    },
    {
      "cell_type": "code",
      "metadata": {
        "id": "P8wSlgXoDPCR",
        "outputId": "7698f301-e9ba-4622-bc3c-af92c7266291",
        "colab": {
          "base_uri": "https://localhost:8080/"
        }
      },
      "source": [
        "gpt2.download_gpt2(model_name=\"124M\")"
      ],
      "execution_count": 5,
      "outputs": [
        {
          "output_type": "stream",
          "text": [
            "Fetching checkpoint: 1.05Mit [00:00, 587Mit/s]                                                      \n",
            "Fetching encoder.json: 1.05Mit [00:00, 108Mit/s]                                                    \n",
            "Fetching hparams.json: 1.05Mit [00:00, 415Mit/s]                                                    \n",
            "Fetching model.ckpt.data-00000-of-00001: 498Mit [00:07, 65.3Mit/s]                                  \n",
            "Fetching model.ckpt.index: 1.05Mit [00:00, 229Mit/s]                                                \n",
            "Fetching model.ckpt.meta: 1.05Mit [00:00, 157Mit/s]                                                 \n",
            "Fetching vocab.bpe: 1.05Mit [00:00, 175Mit/s]                                                       \n"
          ],
          "name": "stderr"
        }
      ]
    },
    {
      "cell_type": "markdown",
      "metadata": {
        "id": "N8KXuKWzQSsN"
      },
      "source": [
        "## Mounting Google Drive"
      ]
    },
    {
      "cell_type": "code",
      "metadata": {
        "id": "puq4iC6vUAHc",
        "outputId": "1b4e8a41-0242-409d-c218-f03c106a2e06",
        "colab": {
          "base_uri": "https://localhost:8080/"
        }
      },
      "source": [
        "gpt2.mount_gdrive()"
      ],
      "execution_count": 6,
      "outputs": [
        {
          "output_type": "stream",
          "text": [
            "Drive already mounted at /content/drive; to attempt to forcibly remount, call drive.mount(\"/content/drive\", force_remount=True).\n"
          ],
          "name": "stdout"
        }
      ]
    },
    {
      "cell_type": "markdown",
      "metadata": {
        "id": "BT__brhBCvJu"
      },
      "source": [
        "## Uploading a Text File to be Trained to Colaboratory"
      ]
    },
    {
      "cell_type": "code",
      "metadata": {
        "id": "6OFnPCLADfll"
      },
      "source": [
        "file_name = \"all_episodes.txt\""
      ],
      "execution_count": 7,
      "outputs": []
    },
    {
      "cell_type": "code",
      "metadata": {
        "id": "-Z6okFD8VKtS"
      },
      "source": [
        "gpt2.copy_file_from_gdrive(file_name)"
      ],
      "execution_count": 8,
      "outputs": []
    },
    {
      "cell_type": "markdown",
      "metadata": {
        "id": "LdpZQXknFNY3"
      },
      "source": [
        "## Finetune GPT-2\n",
        "\n",
        "**IMPORTANT NOTE:** If you want to rerun this cell, **restart the VM first** (Runtime -> Restart Runtime). You will need to rerun imports but not recopy files.\n",
        "\n",
        "Other optional-but-helpful parameters for `gpt2.finetune`:\n",
        "\n",
        "\n",
        "*  **`restore_from`**: Set to `fresh` to start training from the base GPT-2, or set to `latest` to restart training from an existing checkpoint.\n",
        "* **`sample_every`**: Number of steps to print example output\n",
        "* **`print_every`**: Number of steps to print training progress.\n",
        "* **`learning_rate`**:  Learning rate for the training. (default `1e-4`, can lower to `1e-5` if you have <1MB input data)\n",
        "*  **`run_name`**: subfolder within `checkpoint` to save the model. This is useful if you want to work with multiple models (will also need to specify  `run_name` when loading the model)\n",
        "* **`overwrite`**: Set to `True` if you want to continue finetuning an existing model (w/ `restore_from='latest'`) without creating duplicate copies. "
      ]
    },
    {
      "cell_type": "code",
      "metadata": {
        "id": "aeXshJM-Cuaf",
        "outputId": "2dda8eef-530a-4589-d7ce-dc9cd2f84a4b",
        "colab": {
          "base_uri": "https://localhost:8080/"
        }
      },
      "source": [
        "sess = gpt2.start_tf_sess()\n",
        "\n",
        "gpt2.finetune(sess,\n",
        "              dataset=file_name,\n",
        "              model_name='124M',\n",
        "              steps=2000,\n",
        "              print_every=100,\n",
        "              sample_every=200,\n",
        "              save_every=500\n",
        "              )"
      ],
      "execution_count": 10,
      "outputs": [
        {
          "output_type": "stream",
          "text": [
            "WARNING:tensorflow:From /usr/local/lib/python3.6/dist-packages/gpt_2_simple/src/sample.py:17: where (from tensorflow.python.ops.array_ops) is deprecated and will be removed in a future version.\n",
            "Instructions for updating:\n",
            "Use tf.where in 2.0, which has the same broadcast rule as np.where\n",
            "Loading checkpoint models/124M/model.ckpt\n",
            "INFO:tensorflow:Restoring parameters from models/124M/model.ckpt\n"
          ],
          "name": "stdout"
        },
        {
          "output_type": "stream",
          "text": [
            "\r  0%|          | 0/1 [00:00<?, ?it/s]"
          ],
          "name": "stderr"
        },
        {
          "output_type": "stream",
          "text": [
            "Loading dataset...\n"
          ],
          "name": "stdout"
        },
        {
          "output_type": "stream",
          "text": [
            "100%|██████████| 1/1 [00:05<00:00,  5.87s/it]\n"
          ],
          "name": "stderr"
        },
        {
          "output_type": "stream",
          "text": [
            "dataset has 1172447 tokens\n",
            "Training...\n",
            "[100 | 131.13] loss=2.89 avg=2.89\n",
            "[200 | 256.34] loss=2.89 avg=2.89\n",
            "======== SAMPLE 1 ========\n",
            "B] Well, thats enough, Squidward. I got it right. [Squidward turns invisible as a worm walks by him]  Oh, Squidward! I can hear you, Squidward!  [clap] Ooh! [the worm moves back across SpongeBobs body] Youre back. Sorry about your lack of acuity.  Now thats the end of the trip.  But were both in sight. Now get lost, Squidward♪  [starts to walk down the road]  [pulls out the remote] Hey! I cant see!  I got it! [gets lost as the worm makes a run for it. Squidward is chasing him. Squidward turns invisible as the worm follows him.]  Whats happening?  Whats happening. Youve turned invisible to me with your strange sight-seeing act.  [laughs] That was the best idea Ive ever had.  [sadly] Oh, I... What?! [He looks into it and disappears, leaving no trace. The worm takes it over. Then bursts out]  Squidward, youve saved me my entire life.  Whoa, whoa! [Squidward is on a bus. The worm laughs. Squidward walks up to it.]  Hey! How come youre still all this way?  Youve been so busy, Ive... [Squidward turns invisible, sending the bus running.]  What?  I cant even see.  Oh, Squidward, I got it, I got it. Thats it! You came in the right way. You could have stopped at all this trouble. [SpongeBob and Patrick run off and Squidward jumps on the bus] Oh! [He disappears when the worm laughs. The worm runs up beside Squidward and walks out to the edge of the forest]  You can tell that the worm is going there. [The worm walks off toward the edge of the forest. Scene cuts to the worm hiding in the bushes. SpongeBob and Patrick look over to see the worm hiding in the bushes and the bus stopped. Squidward turns invisible, the bus gets lost. The worm screams and is chasing him.]  What? Why!? Why did you turn on that remote?!  Its the remote! You have to be in my way, Squidward♪ Now thats the end of the trip. Get lost, Squidward, youre in trouble.  Oh, thats a good one.  So be it. Ive decided I must be in your way. [Scene cuts to SpongeBob and Patrick in the bush next to the bush.]  Oh, Squidward, there you are. Were about to do some great deeds, but the worms had already decided to follow their will. [They run off in the bush to take their places at the spot where they fell. The worm looks behind them as SpongeBobs is still hiding in the bush. The bush falls and Squidward lands in the bush. The scene cuts to the worm holding Squidward in the bush. The worm lands in Squids shadow and gives him an ovation.]  I didnt think I could survive this.  But, but, but, but, but, but, but, but, but, but, but, but, but, but.... [The worm gives Squidward a thumbs-down, then turns him invisible. The worm turns Squidwards face and gives him the thumbs-down.]  [thinking] Uh, Squidward, that... was so... strange.  [talking indistinguishably] Oh! I couldnt believe it! A worm! Well, you know a worm... [The worm stops talking. Squidward laughs angrily, and he turns out to be a new worm. Squidward laughs while flipping the switch on the bus.]  Well, Ill do it, Squidward. Ive got you covered now. [Squidward smiles smugly. At SpongeBobs laugh. SpongeBob and Patrick laugh too.]  Come on, I said it! [The bus pulls up while the snail is on the other side of the road. The snail is running along the highway.]  Well, I sure am a worm.  Oh. Ive had it all your life. [The snail flies and jumps in the passenger's truck and drives away.]  Well what if something...something...takes over my life? What if it takes his life!?  What if hes lost? [A snail flies back in the pickup truck and crashes into the bus. The driver notices the snail and gets scared. He walks up to it and puts it back in his truck.]  Youre not lost? Oh, you are. [The snail takes the driver to an empty bus stop and drives away.]  Oh, Squidward. I didnt think I would let one of you leave. It seems youre losing one of my friends here.  I want to be a worm, too.  [gul\n",
            "\n",
            "[300 | 392.35] loss=2.74 avg=2.84\n",
            "[400 | 517.60] loss=2.82 avg=2.84\n",
            "======== SAMPLE 1 ========\n",
            " chased you. [puts him in his cage.] Here, try something.  [opens the door. But then the cage stops] Hmm…. [holds the cage tightly and cries in pain.] There you go. [grabs Patricks head] Please let me go. I know its hard sometimes, but Im ready. [grabs the cage tightly and cries in agony]  Come on, Gary, lets go.  [shuts the cage and looks over to the outside] No, no, no, no, no, no, no, no…  There are more possibilities, SpongeBob. Theres more places in our world you wouldnt even know about. [puts on the mask and screams in agony as a giant fish with long, pointed teeth pops out of the cage and falls into Patricks mouth]  [runs to walk away] Okay, time for Mr. Krabs to get back to his job. [gets away as Mr. Krabs looks in the mirror and turns around]  [looks in the mirror and frowns] I thought you were going to-  I was!  [laughs evilly] [The next day, Pearl is walking home from work with a baby girl. It is morning, and the sky is pitch dark with the constant wind and rain. Pearl wakes up from her slumber at the Krusty Krab.]  Pearl! [the baby girl screams in horror as Pearl hears the crying of Squidward and notices the baby crying] Pearl Pearl! Pearl Pearl! [the baby girl screams and looks in the mirror. She goes to get away from the baby as SpongeBob and Patrick arrive, and the baby cries once again]  Pearl  [looking in the mirror] Pearl. Pearl. Pearl Pearl Pearl Pearl Pearl Pearl! [the baby girl screams, Pearl comes back from the Krusty Krab that morning, and screams as she sees Pearl in the mirror]  Pearl Pearl Pearl Pearl Pearl Pearl Pearl! [the baby girl then wakes up screaming like a baby again, and screams twice in agony, the baby then comes back from crying with a loud ringing in her ears. She then screams again and screams again] Pearl…Pearl. Pearl Pearl Pearl Pearl Pearl Pearl Pearl Pearl    [The episode begins in a high-rise apartment. The exterior of it is decorated with pink, yellow, and green neon signs with hearts and flowers. A couple are sitting on a coupe with a baby in front of them]  [whimpers] I didnt know that neon was so colorful.  Its a baby! [points out to the window in front of him]  Dont worry, youll all understand now. Just watch as my beautiful and important moments are immortalized in my latest baby. [the baby is now just a baby woman in pink lipstick and green diapers] Here I come. [the baby woman has the baby in her belly]  Hey! What do you call that guy in pink?!  Meow! [the baby woman comes at him in pink cotton underwear and a cormacula]  So, whats with all the babies? [the baby man is still wearing his pink shirt]  Why, I guess we should talk something up before the baby is born.  Oh, youre right. We should get the baby out.  Well, uh, there you go, baby.  Here. [the baby man pushes himself out of the pink cotton underwear while he takes a deep breathe] Im sure itll be fine.  [sings in deep breath. Then, he sees Patrick] What are you doing?  Im, I suppose, the baby. So, how many babies should we have here?  Well, Im here to have a baby.  Well, theres no need to thank me. Just wait til you find out.  Okay. [the baby man stops speaking] What do you need?  [hits her pants] Hows about we go back here?  Ill show him...  I was just...  And this isnt some...  Not that.  Its a baby.  [takes out a baby bowl and eats it]  You do seem hungry, baby man. [cries]  You must be a little hungry. [cries. The baby man runs out from under the table, and starts screaming.]  [runs off then appears next to the baby] What was your first day?  My first! [runs up to SpongeBob] Ow!  [runs back]  I came to work, right now?  [cried, sobbing]  I... [continues crying]  No, I... [continues crying] I...  [crying]  No, Id like to, and I love my job. [The baby man cries as he runs over to Patrick and grabs a diaper on in front of the baby]  [continues crying]  Wait, what happened to you? [runs off\n",
            "\n",
            "[500 | 652.26] loss=2.46 avg=2.76\n",
            "Saving checkpoint/run1/model-500\n",
            "[600 | 780.35] loss=2.51 avg=2.72\n",
            "======== SAMPLE 1 ========\n",
            "] [gives her a plate with money on it] Hi, lady. You want something to eat? [SpongeBob gives her a plate of ketchup] Hi, lady. You want something to eat? [They both start eating and the plates fall over] Hi, lady. You want something to eat? [SpongeBob gives her a plate of mustard] Hi, lady. You want something to eat? [Both have a glass of hot sauce] Hi-yah! [both eat] Hi-yah! [they both get very angry. A taxi drives up the road until they turn left and the taxi drives over a bunch of Krusty Krews]  Hi-yah! Hi-yah! [Both go back into the taxi, walk down the street in front of each other, and stop near the Krusty Krab, and they both eat, which gives the customer another plate of ketchup] Good dinner, sir. [They both walk into the kitchen of a Krusty Krab]  This is a close one, ladies.  No, this is the most expensive job of any kind, maam.  Oh, you ever notice I got nothing for me for breakfast?  Ooh...[The waiter places some stuff in the sink, but only a huge pile of stuff stands in front of it] This is the biggest pile of stuff I ever seen there.  Ohhhh.  You could even take the pile off the grill. [a pile of kettles is just hanging from the ceiling]  Oh, you cant leave!  They put some of this in the fridge, too, but I have no way of removing the mess. [a pile of patties is hanging from the roof of the Krusty Krab]  Hey! [a pile of mitts is hanging from the ceiling] What are you doing?  Oh, this is the best I can do. [They both sit up]  Thats what I said. Just take it easy. You want a job, maam.  Uh-huh!  Hey, just dont give me the job away.  No, youre not supposed to get paid at my place!  What? No.  Yeah, thats it. [SpongeBob and Patrick walk up]  Oh, whats with the weird patty style? What if I put it on the grill? You know, like... [They both say a little word that is about to get stuck in their tongues]  Hm? [They both say something thats about to be heard, which is that theres the word \"pay\" that is about to come out like itve been stuck in your tongue]  What about itve been stuck in your...?  Oh, please. Lets not make it sound like he wants pay. He should just pay... him. [The word \"pay\" comes out, in a very deep voice]  How do I know if he wants pay? [The words appear on the screen. The scene changes to show the employee inside the Krusty Kras Krusty Shop. He smiles]  So, you want to be an employee?  Sure. Okay, well please give everything away. [The word \"donate\" comes out, implying he has no use for it]  Okay? [The word \"donate\" comes out, which is really not what he said, because he has no use for it] Whoo-hoo! [The word \"donate\" comes out, as he laughs. Then he speaks to his clipboard] Hey, Im a professional and I can always count on you, maam. [The word, \"Donate\" comes out] Dont you look at that. [The word \"Donate\" comes out, as he walks back into the register, which he takes off of his head] Hey, Mr. Cashfish, how many times do I have to say this? This is a sign that says... \"$7.95\". I think its right. I think its right. [The word, \"Donate\" comes out]  Oh!  Oh!  The same word!  Oh, yeah. The same word that says, \"I hope you like the job\". [Mr. Krabs is on his knees, with $7 in his hand]  This is terrible. Theyre not letting me work here!  Hey, look... well maybe... Im going home to visit my parents, maybe?  Come on. [SpongeBobs body rolls into the Krusty Krab]  Youll never make it, honey. [SpongeBob opens the restaurant door, with the sign that says, \"Donate\"]  This is a sign that says... \"$7.95\"? [SpongeBob puts up his hands]  Huh, hey, Patrick. Can I help you?  Hmmm... No.  Why?  Well, you might\n",
            "\n",
            "[700 | 914.80] loss=2.34 avg=2.66\n",
            "[800 | 1039.99] loss=2.50 avg=2.64\n",
            "======== SAMPLE 1 ========\n",
            "ub  No, I mean, its a very fine little piece of fruitcake.  Ahh! Oh, its fine.  And as I said before, [giggles] it reminds me of old SpongeBob. [walks away] Well, I guess its time to go back to my regular job.  Sure thing, Mr. Krabs. See you tomorrow. Well, Ill be so glad I have you back without your nice, uniform uniform. [walks away. Scene cuts to SpongeBob talking to a young customer]  Well, Mr. Krabs, you may have thought you were going to work here, but you were going to do your day job teaching... [screeching] the customers.  I like this. [giggles]  Hey, Squidward. What was my name again? [picks up the spatula] What was I thinking? I was going to work for free! Youre gonna teach the customers money! [grabs spatula]  What was I thinking? I was going to... Oh!  [gets out a huge amount of money] Oh, I wouldnt let this waste of my time distract me. [SpongeBob pulls the \"Master Sponge\" sign]  Sponge-slant. Its only the most important piece of fruitcake in the house: the Master Sponge. What could it be?  There is, sir. A secret secret secret secret, from the mysterious and benevolent SpongeBob, to the simple and humble but highly important, the secret formula! Here it is in this bottle: [glass with a label attached to it] A single-origin secret formula, a rare treat. [shows him the bottle] See? This formula is even more secret than before.  What are you talking about?  Youre talking about the ingredients.  Oh! The secret formula? Its locked up inside the bottle.  Locked? No.  Not if you keep it.  The bottle?  Yep. [SpongeBob laughs] It is now my mission to retrieve this secret formula. [cries]  The formula? [luminous light shines on his hand and SpongeBob cries]  Oh, oh, oh! [pours the formula into another bottle]  Huh?  Oh, SpongeBob. Its a very special and prized jewel of the Krusty Krab.  The secret formula? [thinks about the item]  Ah, I think I got it. Here it is. Take it back.  A special kind of tears us-- Oh, no, a special. Please. It is an item in its own right.  Oh, youre right, Krabs. A special. A very special item.  It is for me. A very special very special. It is my mission to bring the secret formula to the Krusty Krab! [pokes SpongeBob head] Here the door! [pokes the door]   I like it. [door opens] Excuse me, sir, sir. Is your friend selling? [SpongeBob is on a tray of sparkling lemonade]  Whoa, whoa, aa, aaaaahhhh.  Well, you did just fine, SpongeBob. [picks up the \"Master Sponge\" bottle and turns on the light] Heheheh, heh.  No problem. [SpongeBob turns off the light]  [gasps] The formula?  I found it. [gulps nervously]  Come on, SpongeBob. [gulps nervously] Its the Master Sponge, not a man. But my sworn duty is to bring the secret formula to the Krusty Krab. And youre my sworn authority to do that. [SpongeBob is heard on the other end of the phone]  Whoa! [SpongeBob turns on the light and the light turns off]  No! [the light turns off]  [turns on the light] The secret formula is safe inside!  How did you know?  Well, I was watching a TV special. Heres a little clip...  Whats that?  Well, I caught that on video.  Yes, why does this show the Master Sponge?  Heres a lot of clips, SpongeBob. Heres a lot of clips, Mr. Krabs.  Wow! I dont know. Oh, I do know the formula, boy. It was my idea! I hope this formula will save me.  Oh, I wouldnt do that, Mr. Krabs. Its my friend SpongeBob, Mr. Krabs.  Is he right?  Oh, he is right. Its my friend Gary.  I think you forgot something. [Gary has a goofy look on his face]  Meow, meow.  But no, your friend is safe inside my body.  Oh, really? I want you to put a protective shield on him. [Gary\n",
            "\n",
            "[900 | 1174.45] loss=2.31 avg=2.60\n",
            "[1000 | 1299.69] loss=2.10 avg=2.55\n",
            "Saving checkpoint/run1/model-1000\n",
            "WARNING:tensorflow:From /tensorflow-1.15.2/python3.6/tensorflow_core/python/training/saver.py:963: remove_checkpoint (from tensorflow.python.training.checkpoint_management) is deprecated and will be removed in a future version.\n",
            "Instructions for updating:\n",
            "Use standard file APIs to delete files with this prefix.\n",
            "======== SAMPLE 1 ========\n",
            " sorry? [notices Patrick is the last person on the left] Well, hes behind me!  Patrick, thats the last time you wouldnt give me a massage!  Thats wrong! No-one lets you down! [Patrick rubs Patricks armpit] Patrick. [Patrick gets angry and throws his hat up, which ends up hitting SpongeBob on the head, then he tries to hug him with another hat, but stops] Patrick? [Patrick runs back into his room laughing]  No. [turns the lights off]  Ah! [stops crying as he is about to leave] I love you, daddy!  [turns off his lights] Hey! [Patrick is having a hard time sleeping] I love you, daddy. [He falls into his bed, which also has a towel around his waist] See?  [sighs] Its almost time for Christmas... [falls asleep again] or is it Christmas? [chuckles] You were right! You should have gotten a better day off! [takes his nightcap off and takes his present out of his bed] Aww, I hate you, daddy. I love you, too, daddy. [snaps as he imagines himself being his daddy] But I cant take anymore of it. Im gonna leave you alone. Youll never get me really, really good at anything.  [opens up three pillows for Patrick] No need to put any more clothes on. I can always come up just to... [Patrick pulls out three pillows] ...you, daddy. [jiggles the one on Patricks hand and it covers all but his armpit] ...my armpi...  [takes another bed out from the closet and pulls out a blanket] See? Look. [starts to make a Christmas tree large enough for him to sleep in] Howd you like a large one for me, daddy?  Well, you just put em in your mouth like a small Christmas tree.  AHHHHH!!! [Patrick runs out of his room screaming. When he comes back with three huge Christmas trees, everyone has one] Well, you can take your present without ever having to come up to my house again.  Im not home anymore!  [Patrick puts in his hat] But you cant stay in my house anymore! Dont ever go out and play with that guy again!  [Patrick jumps in the living room] No, Patrick! Not like that! [takes off his hat and sees a large Christmas tree outside of the closet] Hey! Another big tree!  Patrick, I feel sorry for you! [runs out the room screaming]  Oh, look, its not so bad! We really caught up this holiday season!  No! [stares for an eternity] Ive got nothing... I really, really...  Dont go... [Patrick gets back in his room and runs to another room] You know, I could never be mad at you. [walks to the doorway and then takes out the key]  Hmmm, if anything, I really need to get through this door again! [opens the door and then goes back and closes it] Patrick, youre not just an impostor, youre a very important person in my household.  [puts on his hat] Im not the only one. [SpongeBob walks out] Whew. Dont worry anymore, Patrick. [holds SpongeBob down] There you go, big, really small. [SpongeBob takes out a medium-sized Christmas tree] Hmmm... I really like this one.  [jumps in the living room] Im not a big Christmas person, but this is...  [looks at the other presents Patrick has put in his other books, which reveal to have been given to him by Patrick Star at a party] Oh, this is the best Christmas present anyone has ever gotten!  [gets up and notices the present in an adorable shape] Hello, daddy. [his eye twitches and shudders] Hi, daddy.  [grunts] Dad, its a present. [opens the present and then a bunch of stuff jumps out, including a bunch of bubble wrap] Thanks, daddy.  [laughs] Oh, Daddy! [chuckles] Well, your present is now my birthday. [he takes the present] But how will this help or hurt your mind? [SpongeBob puts the bubble wrap on his eyes at this]  [happily] Hanging presents for you?  Howd you know it was him who put the bubble wrap in my eye?  No really, daddy. [the bubble wrap goes off and blows up and flies everywhere and then pops] Well now it just looks ridiculous on a white screen.  It is.  Yeah, whatever. See you in the sky next week.  [laughs] See you there! [SpongeBob\n",
            "\n",
            "[1100 | 1436.29] loss=2.46 avg=2.54\n",
            "[1200 | 1561.44] loss=1.90 avg=2.48\n",
            "======== SAMPLE 1 ========\n",
            " your house. You will live right here in my place until youre older, grosser, and ugly.  [looks at his wrinklier friend] Oh, Ill never be old enough to go to the Krusty...  Yeah. Hey, Mr. Krabs, old is okay. [stops and closes the doors] Im old, wrinklier...  Well, Ill make things more palatable for you to have so you can be ugly.  But Im ugly?!  Well, no ones gonna look no older than me!  [shocked] Youre ugly! [Patrick and Sandy look at each other] SpongeBob, do you have any...  [growls] No such thing! You are all equal before the law! What do we do to get our fair share?  Well, I can only ask... you two meanies. [SpongeBob jumps into Patricks nose]  Ahahaha!.  [eyes bug out of eye contact] Uh, uhh, what? [eyes still bug out of their sockets; hes about to stare at the counter while Patrick goes to pull the lever that gives the Krabby Patty his nose. When he reaches the counter, his eyes widen.]  You two meanies...! You want me to have the Krabby Patty?  Yeah!  Well, we can sell it at two bucks an animal!  Oh, no, no, no, no! Ill just have that dirty ghost of old whos gonna eat your food and eat it! Ill take that yellow monster as a pet and keep it right here.  All right! [takes off his eyestalks and takes out the Krabby Patty] Lets make a pact. Were gonna make every penny we make last dollar we sell sell sell sell sell!  Huh? No, no way, pal! This is gonna cost me money! [takes off his eyestalks and screams] The ghost of old! Oh, yeah, thats gonna eat it! [Squidward goes into the kitchen and opens the fridge and goes through the wall]  What? No, nothing! Im gonna eat one! Oh, no! [picks up the Krabby Patty] Lets just eat what the ghost of old has to eat. [picks up the burger and eats it] SpongeBob, I think the ghost will eat the whole thing. See, hes hungry. Lets skip the patty! Ahahaha! I think the ghost will eat all the Krabby Patties! [chuckling] Okay.  [gasps and gets really angry] No! No you dont!  Hes gonna eat everything!  Hes gonna eat every part of the patty!  [shouting] NO!  But just eat it!  [growls and becomes really angry. He hands the ghost the Krabby Patty, but the patty flies outside of the kitchen. The patty eats everything]  What? [Patrick takes the patty out of the kitchen and gets really angry] You dont eat my patty? Im just a dirty little ghost! [laughs loudly]  [runs over to Patricks body] Patrick, you gotta help me!  No, no help! It is too late for that! Why dont you just eat it and then Ill be back as your master.  You mean Ill eat it too?  Ill eat it now! Eat it! [runs out of Patricks body] Ill eat it!  No, no, no! No, dont!  Its just a yellow ghost! I cant forgive him! Ill just eat it! Ill eat it!  [angry] No!  Dont!  [nervously] Ill eat it! [suddenly becomes really angry] I dont eat ghost food! Its just a regular old patty!  I just eat ghost food?  [gasp] Just a regular patty!  Oh, but why cant I just eat it?  Because I dont believe in ghosts. [walks out]  Were all one big plan B.  Well, Im just gonna have to believe it! No more ghosts! Stop messing with my meds!  No! No, no! No, no, no! [jumps out of the refrigerator, takes the patty, and eats it] No! No! No! No! Come on! [puts on a pair of black ski-vis and high-angle glasses] What the...? Were all dead! I never got to live a peaceful, happy, and beautiful life!  What?! Why dont you just read my ghost story?  I wanted to read it!  Well, thanks for that, I guess. No more ghost tales.  How stupid of me! [he rips off his arm] All right. Now get back to work!  No! Wait! [runs to Patrick]  Yes, yes! Im on time! Now get back to work. [Patrick and Gary get booted out\n",
            "\n",
            "[1300 | 1695.98] loss=1.91 avg=2.44\n",
            "[1400 | 1821.10] loss=1.70 avg=2.38\n",
            "======== SAMPLE 1 ========\n",
            " Yeah, SpongeBob?  No.  SpongeBob?  Yes?  I dont know when you... [Patrick holds out a bowl of cookies] cookies. [grabs a cookie jar] Ah. [puts cookie jar in his mouth] Dont spoil the surprise, Patrick. But for now, enjoy... [SpongeBob swallows the cookie jar] Ahem. [SpongeBob imagines various cookie jars full of cookies] The Krusty Krab.  [to customer who leaves, \"You forgot your napkin\"] I like you, sir. Now, the ambiance at the Krusty Krab. [the customers chatter quietly] Wait! What about those smelly old clam mays? Were gonna need more than that. Now, what—? [checks his pockets] Sorry, sir. I made them up for me. [grabs his pocket change] Ill pay for them for you.  What do you mean your pocket change was... $100. [Patrick gives him his change]  Patrick, have you gotten a penny in return?  My change? My change.  You know, I need more money?  No, I—  More… [rips the cash register out of his eyes and body] More… money, huh? And more pizzas!  Ill just open up a second kitchen and—  Open a second— [sticks his feet inside] Ill take that as a yes.  That answerll probably do the trick.  [sits down] I— [grabs Squidward as he continues to rattle the register]  [in slow motion] Squidward?  [stops shaking Squidward] Dont worry, Squidward. I know how youre doing it. [grabs Squidward] Okay… enjoy the new surroundings, Mr. Pizza Man!  [takes Squidward] You know, SpongeBob. [takes Squidward] You always— [walks away from Squidward and yells into a megaphone] SpongeBob! Come back! Cant you see Im just standing here? [laughs, but still beeps as he walks away] Oh. Youre getting close to something I cant—[stops and notices that hes in the register boat] Squidward! Are you okay in the kitchen?  Yes, sir. Yes I am! Dont worry, Squidward. Im here to— [takes Squidward] Hold on, hold on— [takes Squidward into the kitchen] I must be going! [opens up the register boat and Squidward is inside] Hey, Squidward.  Mr. Krabs?  Yes, Squidward?  Squidward?  Mr. Krabs?  Yes, Squidward?  Mr. Krabs?  Yes, Squidward?  Mr. Krabs?  Yes, Ill be bringing em over. [gives Squidward the register boat] Dont worry, Squidward, Im sure itll take [takes the boat] all the way over to the other side of the road before I get there!  [gives Squidward the register boat] Alright, Mr. Krabs, you cant do it! What are we gonna do?  [looks at SpongeBob] You havent been working out all that barnacles yet, boy.  Yes, I have.  Then tell Mr. Krabs I said so.  Dont worry, Squidward. Im sure itll take us all a while to get to the next level.  But, Mr. Krabs is the one who made the call. [shows his finger and he gives his full, \"Yes\" badge]  Thats a good one, me boy. [scene cuts to another tired Squidward and Mr. Krabs looks at him funny in the eye]  Mr. Krabs, I dont believe we have anywhere near the amount of time we need to get to the next level.  But you said we had the \"next level.\"  Yes, sir.  Then prepare to be amazed!  Its like the best friends story has been told to this day. [Mr. Krabs gives Squidward the \"Next Level\"] Now that youre telling it, I dont think a brain could ever learn to talk this way.  [gasps] You mean like a brain could?  What if a brain could talk like a brain?  [gulps] Like a brain! [clings to SpongeBob and uses it to say \"I want to eat a Krabby Patty\"]  [lifts SpongeBob and uses the head to bring him up higher] Okay, SpongeBob, this is gonna be fun. [SpongeBob takes a step and jumps and he screams]  [to his friends, now at Squidwards house] Okay, Patrick, Ill go get a Krabby Patty.  I gotta go- [he walks to the window and lands on it and then walks back over to Pat\n",
            "\n",
            "[1500 | 1955.51] loss=1.36 avg=2.31\n",
            "Saving checkpoint/run1/model-1500\n",
            "[1600 | 2082.94] loss=1.62 avg=2.26\n",
            "======== SAMPLE 1 ========\n",
            "ries [the Krusty Krab rips the wall and the restaurant begins to rot. Mr. Krabs grabs Plankton and takes him away. SpongeBob and Mr. Krabs leave the Krusty Krab, with a lot of customers from the first wave arriving to leave. Mr. Krabs picks Plankton up and carries him away, and gives him the number five license plate], and goodbye.  Good-bye, SpongeBob. [gives Plankton the number 5 license plate] The Komedy Krab is known for being one of the fiercest foes the Krusty Krab has ever been plagued by.  [sighs] I never got so many orders out the way I thought they would one dime per person. [the customers murmur as they leave]  But, but we all knows its a dime!  It is?!  [laughs nervously] Oh, please, no more orders! Please! Please! Please! [Mr. Krabs pours patties into the cart and the customers complain.]  OOH, HOWEVER?! [takes a sample of the patty] This is so expensive...  [walks out] But not before getting the samples in a vase, eh, boy?  Um, excuse me, sir. How much do you want, you dummy?  [in a confident voice] Five bucks. [all the customers sign language] How about two?! [both mutters]  But, yes, sir! [Mr. Krabs takes out a sample glass]  [comes out of the glass and screams] What in Neptunes navel?! [he walks into the kitchen and sees all the customers crying. He sees SpongeBob, Squidward, and the fry cook] SpongeBob, Mr. Plankton, and Squidward: Im so sorry for what Mr. Krabs did! [crying]  Whatever.  No more customers. [all the customers gasps loudly and they stand up. Mr. Krabs grabs them and carries them aside to Squidward] Squidward, Mr. Krabs has taken me rightful place as fry cook! And now, I feel the wrath of my conscience! [SpongeBob, Mr. Krabs, and the other customers throw Squidward and the fry cook in the air] [The scene changes to SpongeBob, Mr. Krabs, and Squidward in jail, in a small cell]  [he is hiding under the mattress] Yes, conscience boy. [notices him] What are you doing in here?  You know the rule. I am free to go without violating any rules. You just have to follow my rules.  Oh, I really dont believe in free exercise of imagination.  [gets an idea] That Mr. Krabs means it!  [shocked and shocked] Im free?! [they both growl at each other] [SpongeBob is crying on the stand while Squidward looks on from the tears. Mr. Krabs puts the spatula down and holds his arm. As SpongeBob cries, Squidward stops crying.]  [he looks at his arm] That Mr. Krabs means it!  [stops crying] You know what? Dont you think Mr...  Mr. Krabs saying me? [tries taking the spatula but cannot take it] [SpongeBob puts some of his liquid through the spatula to form the Krabby Patty. The customers take a bite of the patty.]  Ah, it is good to be here. This is the last home of my faithful friend the Komedy Krab. [SpongeBob takes off the spatula, but Squidward takes it from him] So what do we do now? [slaps himself with the spatula] Well? [SpongeBob takes the patty from Squidward and slaps himself four times. Squidward screams in pain.]  SpongeBob! [SpongeBob grabs SpongeBob and ties him up to the chair.] Ow. Ow. Ow. Ow. Ow. [cries]  Were going through with the search...  Im still here?  Im still here? [SpongeBob grabs two cameras]  Yup. [SpongeBob snaps himself out of SpongeBobs hands] So were finished! [SpongeBob screams as Squidward screams.]  [sighs] Okay, we all know what Krabby Patties are. But I knew I would do the opposite. [SpongeBob runs to the ordering window and yells over some of the food to start the Krabby Patties. When he reaches it, he screams in fear cause the Krabby Patties began to mold under the pressure. The molding happens right when Squidward and SpongeBob are about to eat the Krabby Patties]  That was close...but not today! [holds up his spatula that is still on] Im coming! [Squidward gets shocked\n",
            "\n",
            "[1700 | 2217.30] loss=1.89 avg=2.24\n",
            "[1800 | 2342.39] loss=1.71 avg=2.21\n",
            "======== SAMPLE 1 ========\n",
            " you, SpongeBob? And did you know the secret ingredient of the Krabby Patty? Its probably...  Uhh, I dont know. You need to get a couple of science-like drinks and a bottle of lemonade out of there, then it can be sorted out.  Oh, of course, sir. [they walk outside into the night. the fire fizzes and roars]  Wow, sounds like a pretty good plan...  Its actually quite interesting, Officer Bogusz.  You really think you know anything about explosives, arent you, fellow cop? Officer Bogusz? [cops officer puts a necklace with explosives in his waistband]  [laughs] I am going on 24 hours with no break. [opens the case and pulls out case with case inside, but drops bomb. police officer puts it in a glass container. The glass bottle falls down, hits the ceiling and closes the lid, breaking it, then they peek inside the case]  What are you doing with that, Officer?  What am I doing with? Theres no one around. [sees a door] Oh, but a door. This is it!  No, wait, I cant see it. [opens the door, and they both run out, while the clock strikes two, then see Sandy working on the case]  Okay, time for a quiet evening shift at the Krusty Krab. Sometime just need to be... [the alarm goes off and the Krabby Patty explodes. The damage to the Krusty Krab is total, with a sizzling pink background] destruction... [notices a piece of rubble covering the Krusty Krab] destruction... [checks the rubble and notices the rubble is gone] destruction... [gasps] destruction... [gasps] destruction... [the rubble begins to cover and cover, covering as the whole day passes by] destruction... [the rubble stops and the destroyed Krabby Patty begins to cover its tracks] all that matter... [the destroyed Krabby Patty continues to cover up every bit of rubble] no one would build this mess without a fight, would you...? [the remains of the Krabby Patty fall on the ground, leaving only the top half of its head and its skeleton] destruction... [the Krabby Patty falls on the ground, completely destroyed]  Huh? [screams] destruction... [the Krabby Patty disintegrates completely]  So now were all of... [The Krabby Patty explodes, obliterating the Krusty Krab. The scene changes to Sandy, Patrick, Squidward, and Mr. Krabs in their respective police cruisers, with helmets and tear buckets looking at them]  [sniffs] Ohhh. Like that?  Oh, no, Mr. Krabs. Not after I retrieved the Krabby Patty formula.  [gasps] You failed again? [puts his police hat on his head] Im going undercover, [walks off] while Im at it. [Sandy, Patrick, and Squidward wave their police hats back and forth] Hahaha! [they both laugh]  And finally, [goes on a high-fives-high-fives-over-their costumes] Hahaha! [Sandy and Patrick walk off-screen, followed by SpongeBob and Patrick on the ground]  [waving their hands] destruction... [The destruction causes everyone in Bikini Bottom, including the dome, to become ashes, and all of them begin to cry. Then, a strange gas cloud appears, floats back to SpongeBob, Patrick, Squidward, and Mr. Krabs] Destruction cloud. Willingly abounding in its foul power? Or will it soon boil under your dome? [the cloud floats back to them, and they float in the Krusty Krab]  [laughs] Those are some jokes I tell, Mr. Krabs.  I tell you what, Mr. Krabs. [the cloud returns to them]  And its working for us!  [laughs] That was one laugh.  Your turn! [cut to the Krusty Krab where one of the employees walks in]  Hooray!  What a quaint little establishment. Hey, everybody. Lets all come inside.  [crying] Im gonna stay cool. [SpongeBob and Patrick sigh and resume their work]  Well, in that case, whats with all the dinnertime feints? [he rubs his face in the glass of the cashier boat]  I was about to open a Krabby Patty, when... a horrible thunderstorm... forced me... to take shelter back in the kitchen... [he rips of the glass, revealing a badly sunburned SpongeBob] ...into the shadows and stay cool forever. [gasps as he sees Patricks frozen face in the glass] When I look back, SpongeBob and Patrick are lost. [\n",
            "\n",
            "[1900 | 2476.61] loss=1.46 avg=2.16\n",
            "[2000 | 2601.78] loss=1.47 avg=2.13\n",
            "Saving checkpoint/run1/model-2000\n"
          ],
          "name": "stdout"
        }
      ]
    },
    {
      "cell_type": "markdown",
      "metadata": {
        "id": "IXSuTNERaw6K"
      },
      "source": [
        "# Save the Trained Model Checkpoint"
      ]
    },
    {
      "cell_type": "code",
      "metadata": {
        "id": "VHdTL8NDbAh3"
      },
      "source": [
        "gpt2.copy_checkpoint_to_gdrive(run_name='run1')"
      ],
      "execution_count": 11,
      "outputs": []
    },
    {
      "cell_type": "markdown",
      "metadata": {
        "id": "pel-uBULXO2L"
      },
      "source": [
        "## Load a Trained Model Checkpoint\n",
        "\n",
        "Running the next cell will copy the `.rar` checkpoint file from your Google Drive into the Colaboratory VM."
      ]
    },
    {
      "cell_type": "code",
      "metadata": {
        "id": "DCcx5u7sbPTD"
      },
      "source": [
        "gpt2.copy_checkpoint_from_gdrive(run_name='run1')"
      ],
      "execution_count": null,
      "outputs": []
    },
    {
      "cell_type": "markdown",
      "metadata": {
        "id": "RTa6zf3e_9gV"
      },
      "source": [
        "The next cell will allow you to load the retrained model checkpoint + metadata necessary to generate text.\n",
        "\n",
        "**IMPORTANT NOTE:** If you want to rerun this cell, **restart the VM first** (Runtime -> Restart Runtime). You will need to rerun imports but not recopy files."
      ]
    },
    {
      "cell_type": "code",
      "metadata": {
        "id": "-fxL77nvAMAX"
      },
      "source": [
        "sess = gpt2.start_tf_sess()\n",
        "gpt2.load_gpt2(sess, run_name='run1')"
      ],
      "execution_count": null,
      "outputs": []
    },
    {
      "cell_type": "markdown",
      "metadata": {
        "id": "ClJwpF_ACONp"
      },
      "source": [
        "## Generate Text From The Trained Model\n",
        "\n",
        "After you've trained the model or loaded a retrained model from checkpoint, you can now generate text. `generate` generates a single text from the loaded model.\n",
        "\n",
        "Other optional-but-helpful parameters for `gpt2.generate` and friends:\n",
        "\n",
        "*  **`length`**: Number of tokens to generate (default 1023, the maximum)\n",
        "* **`temperature`**: The higher the temperature, the crazier the text (default 0.7, recommended to keep between 0.7 and 1.0)\n",
        "* **`top_k`**: Limits the generated guesses to the top *k* guesses (default 0 which disables the behavior; if the generated output is super crazy, you may want to set `top_k=40`)\n",
        "* **`top_p`**: Nucleus sampling: limits the generated guesses to a cumulative probability. (gets good results on a dataset with `top_p=0.9`)\n",
        "* **`truncate`**: Truncates the input text until a given sequence, excluding that sequence (e.g. if `truncate='<|endoftext|>'`, the returned text will include everything before the first `<|endoftext|>`). It may be useful to combine this with a smaller `length` if the input texts are short.\n",
        "*  **`include_prefix`**: If using `truncate` and `include_prefix=False`, the specified `prefix` will not be included in the returned text."
      ]
    },
    {
      "cell_type": "code",
      "metadata": {
        "id": "8DKMc0fiej4N",
        "outputId": "212e555f-797e-45cd-dea0-3490b443775e",
        "colab": {
          "base_uri": "https://localhost:8080/"
        }
      },
      "source": [
        "gpt2.generate(sess,\n",
        "              length=512,\n",
        "              seed=511999,\n",
        "              temperature=0.5,\n",
        "              nsamples=10,\n",
        "              batch_size=5,\n",
        "              prefix=\"Spongebob and Patrick are in Jellyfish Fields. \",\n",
        "              include_prefix=True\n",
        "              )"
      ],
      "execution_count": 12,
      "outputs": [
        {
          "output_type": "stream",
          "text": [
            "Idealized by a crowd of nerdy teens]  [screams]  [screams]  [screams]  [screams]  [screams]  [screams]  [screams]  [screams]  [screams]  [screams]  [screams]  [screams]  [screams]  [screams]  [screams]  [screams]  [screams]  [screams]  [screams]  [screams]  [screams]  [screams]  [screams]  [screams]  [screams]  [screams]  [screams]  [screams]  [screams]  [screams]  [screams]  [screams]  [screams]  [screams]  [screams]  [screams]  [screams]  [screams]  [screams]  [screams]  [screams]  [screams]  [screams]  [screams]  [screams]  [screams]  [screams]  [screams]  [screams]  [screams]  [screams]  [screams]  [screams]  [screams]  [screams]  [screams]  [screams]  [screams]  [screams]  [screams]  [screams]  [screams]  [screams]  [screams]  [screams]  [screams]  [screams]  [screams]  [screams]  [screams]  [screams]  [screams]  [screams]  [screams]  [screams]  [screams]  [screams]  [screams]  [screams]  [screams]  [screams]  [screams]  [screams]  [sc\n",
            "====================\n",
            "It was a warm, sunny day in Bikini Bottom. The wind was terrible.     [The episode begins at the Krusty Krab. The customers are marching in the streets in celebration of the holiday. SpongeBob is standing on a pole.]  ♪Even though Im covered in slime, its so nice of you to forgive me for being a crustacean. Cause even though Im covered in muck, its so nice of you to forgive me for being a Krabby Patty! Cause even though Im covered in muck, its so nice of you to forgive me for being a Krabby Patty! Cause even though Im covered in muck, its so nice of you to forgive me for being a Krabby Patty!♪ [the customers murmur in agreement] And though we have no customers, we have a lot of good things to do with all of the crustaceans you havent talked to yet!    [One customer is washing a table in the sink with a mop. Another mops the floor with a ketchup bottle. Another customer mops the ceiling with a ketchup bottle. Another customer mops the ceiling with a ketchup bottle. Another customer mops the ceiling with a napkin on the ceiling. Another customer mops the ceiling with a paint brush. Another customer mops the ceiling with a sander. Another customer mops the ceiling with a mop. Another customer mops the ceiling with a sander. Another customer mops the ceiling with a sander. Another customer mops the ceiling with a sander. Another customer mops the ceiling with a sander. Another customer mops the ceiling with a sander. Another customer mops the ceiling with a sander. Another customer mops the ceiling with a sander.  [whispers into the mike] Whats this, SpongeBob?  [screams] Whats this, me boy? Customer #2: Whats this? [pulls a plug from the ceiling and flings it up]  Whats this? [The customer places the plug in the vent. The fumes are coming out of the vent and into the ceiling, where they are blowing everything up] Customer #2: Ow! [The customer pulls the plug out of the vent and flings it all back down. The customer places another plug into the vent and flings it all back down. The customer places the plug into the vent which causes the dome to fall down. The fumes are coming out of\n",
            "====================\n",
            "Patricks got a new face. [He and Patrick both laugh] Hey, Patrick, whats he doing?    [The episode begins at the Krusty Krab. A customer is trying to get some ice on his sandwich.]  What is wrong with these sandwich? Fresh or frozen. [SpongeBob pulls a frozen slice of frozen cheese off of the customer.]  [laughs] Fresh cheese. [Patrick and SpongeBob laugh]  Well, you two are obviously on vacation, so Im gonna need a break. [The sandwich falls on the table.]  Aww, come on. Get out of here. [Patrick and SpongeBob walk away]  Hey, wait up. [The sandwich lands on the table.]  [screams] Cheese! [The customer gets up and leaves. They walk away.]  Ive got to get some ice. [Patrick and SpongeBob walk away]  Hey, wait up. [Patrick and SpongeBob get up] Hey, wait up. [Patrick and SpongeBob get up] Hey, wait up. [Patrick and SpongeBob get up] Hey, wait up. [Patrick and SpongeBob get up] Hey, wait up. [Patrick and SpongeBob get up] Hey, wait up. [Patrick and SpongeBob get up] Hey, wait up. [Patrick and SpongeBob get up] Hey, wait up. [Patrick and SpongeBob get up] Hey, no, no, no, no, no, no, no, no, no, no, no, no, no, no, no, no, no, no, no, no, no, no, no, no, no, no, no, no, no, no, no, no, no, no, no, no, no, no, no, no, no, no, no, no, no, no, no, no, no, no, no, no, no, no, no, no, no, no, no, no, no, no, no, no, no, no, no, no, no, no, no, numero uno numero.  Oh, no. [Patrick and SpongeBob walk away]  [sighs] [The scene changes to SpongeBob and Patrick sitting in the kitchen of the Krusty Krab. Patrick is using a metal detector to look at something that SpongeBob is doing.]  [while doing the same thing] On a rotating basis,\n",
            "====================\n",
            "Krabs is the only guest on the island. He is a blue whale, born with three eyes, a nose, and a tail]  [gasps] Me first guests! [The Krusty Krab is deserted now. The Krusty Krab opened its doors to all customers except SpongeBob.]  Its okay, Pearl. Its just you and me. [Pearl grins widely and takes off her glasses and starts to flip the patties on the grill]  [gasps] Me first guests! [The customers look at her in suspicion]  [gasps] Me first guests! [Mr. Krabs and Pearl look at each other in suspicion. Mr. Krabs shows a pair of underwear with hearts on the front and backs of the pants. Pearl pants Mr. Krabs and Pearl shows Mr. Krabs and Pearl as naked. At this moment, SpongeBob and Mr. Krabs get into an argument. Mr. Krabs shows a pair of underwear with hearts on the front and backs of the pants. SpongeBob and Mr. Krabs both laugh. SpongeBob and Mr. Krabs start grabbing for the hearts. Mr. Krabs shows a pair of underwear with hearts on the front and backs of the pants. SpongeBob and Mr. Krabs start crying. Mr. Krabs shows a pair of underwear with hearts on the front and backs of the pants. SpongeBob and Mr. Krabs start laughing]  [gasps] Me first guests! [All customers look at the customers in suspicion. Mr. Krabs and Pearl look at each other in suspicion as they both laugh. SpongeBob starts to get the heart signals out]  [gasps] Me first guests! [All customers look at Mr. Krabs and Pearl in suspicion. Mr. Krabs and Pearl start to laugh]  [gasps] Me first guests! [All customers look at Mr. Krabs and Pearl in suspicion. Mr. Krabs and Pearl start to laugh]  [gasps] Me first guests! [All customers look at Mr. Krabs and Pearl in suspicion. All customers look at Mr. Krabs and Pearl in suspicion. Pearl starts to sweat]  [gasps] Me first guests! [All customers look at Mr. Krabs and Pearl in suspicion. Mr. Krabs and Pearl look at each other. Pearl starts to sweat]  [gasps] Me first guests! [All customers look at Mr. Krabs and Pearl in suspicion\n",
            "====================\n",
            "Bubble transition. The scene changes to the Krusty Krab. Mr. Krabs is still standing outside the restaurant, looking at the crowd.]  [sighs] Truly, a privilege to speak with you all today, Mr. Krabs. [laughs] [The crowd cheers.]  [holding signs that reads \"Krabby Patty\", who in this day and age is taller than his younger self] The Krusty Krab, the answer to the Krusty Krab. [his \"chest\" is visible on his sleeve] The answer to the Krusty Krab. [his \"axle\" is visible on his other arm] The Krusty Krab. [his \"bowel\"] The Krusty Krab. [his \"bowel\"]  [holding a sign that reads \"money\" and holding a \"money vault\"] Rewards from the Krusty Krab. [his \"arm\" is visible on his other arm, holding a \"money bag\"]  [holding a sign that reads \"money\" and holding a \"money vault\"] MONEY BACK. [gasps] MONEY BACK! [Mr. Krabs runs through the crowd, screaming excitedly. The crowd gasps and runs away.]  [running after the crowd] Mr. Krabs, you gotta see this. [shows a bunch of money bags] Mr. Krabs, look! [shows a bunch of money bags with Mr. Krabs on them] These are MY KRABBY PUSTRINES. [shows a bunch of money bags with Mr. Krabs on them]  [runs after the crowd] Mr. Krabs, Mr. Krabs, Mr. Krabs! [Mr. Krabs runs off, leaving nothing on the ground, then running into the Krusty Krab.]  [screams and jumps out]  Mr. Krabs, Mr. Krabs! [runs after the crowd]  [runs after the crowd] Mr. Krabs, Mr. Krabs! [runs after the crowd] [Mr. Krabs runs and jumps around until he falls onto the ground, screaming. The crowd continues to run and jump around until they spot SpongeBob, still in the Krusty Krab cash register. They run to the cash register, but its empty.]  [gasps] What is that?  [gasps] The Krusty Krab. [runs up to the register] \n",
            "====================\n",
            "SpongeBob and Patrick walk in.]  Hey, guys. [SpongeBob and Patrick walk in.]  Hey, guys. [Patrick shows up and shows up wearing a costume.]  Hey, guys. [Patrick shows up wearing a suit with a robot in it.]  Hey, guys. [Patrick shows up wearing a suit with a wolf.]  Hey, guys. [Patrick shows up wearing a suit with a sea horse.]  Hey, guys. [Patrick shows up wearing a suit with a mermaid in it.]  Hey, guys. [Patrick shows up wearing a suit with a mermaid in it.]  Hey, guys. [Patrick shows up wearing a suit with a unicorn in it.]  Hey, guys. [Patrick shows up wearing a suit with a unicorn in it.]  Hey, guys. [Patrick shows up wearing a suit with a unicorn in it.]  Hey, guys. [Patrick shows up wearing a suit with a unicorn in it.]  Hey, guys. [Patrick shows up wearing a suit with a unicorn in it.]  Hey, guys. [Patrick shows up wearing a suit with a unicorn in it.]  Hey, guys. [Patrick shows up wearing a suit with a unicorn in it.]  Hey, guys. [Patrick shows up wearing a suit with a unicorn in it.]  Hey, guys. [Patrick shows up wearing a suit with a unicorn in it.]  Hey, guys. [Patrick shows up wearing a suit with a unicorn in it.]  Hey, guys. [Patrick shows up wearing a suit with a unicorn in it.]  Hey, guys. [Patrick shows up wearing a suit with a unicorn in it.]  Hey, guys. [Patrick shows up wearing a suit with a unicorn in it.]  Hey, guys. [Patrick shows up wearing a suit with a unicorn in it.]  Hey, guys. [Patrick shows up wearing a suit with a unicorn in it.]  Hey, guys. [Patrick shows up wearing a suit with a unicorn in it.]  Hey, guys. [Patrick shows up wearing a suit with a unicorn in it.]  Hey, guys. [Patrick shows up wearing a suit with a unicorn in it.]  Hey, guys. [Patrick shows up wearing a suit with a unicorn in it.]  Hey, guys. [Patrick shows up wearing a suit with a unicorn in it.]  Hey, guys. [Patrick shows up wearing a suit with a unicorn in it.]  Hey, guys. [Patrick\n",
            "====================\n",
            "Bob and Patrick are standing in front of the sign, now with a \"Buy Now\" sign on the front. SpongeBob and Patrick are in the middle]  Hey, Patrick, do you want to buy now?  No.  Oh, sorry. [SpongeBob and Patrick are standing in front of the sign now with a \"Buy Now\" sign on the front. SpongeBob and Patrick are in the middle]  Hey, SpongeBob, do you want to buy now?  No.  Oh, sorry. [SpongeBob and Patrick are standing in front of the sign now with a \"Buy Now\" sign on the front. SpongeBob and Patrick are in the middle]  Hey, Patrick, do you want to buy now?  No.  Oh, sorry. [SpongeBob and Patrick are standing in front of the sign now with a \"Buy Now\"]  Hey, SpongeBob, do you want to buy now?  No.  Oh, sorry. [SpongeBob and Patrick are in the middle]  [gasps] Youre not buying now?! I cant believe youre standing in front of me when I could see I was in the whole wrong place at the time.  [gasps] Youre not buying now?! I couldnt see I was in the whole wrong place at the time.  [gasps] Youre not buying now?! I couldnt see I was in the whole wrong place at the time.  [gasps] Youre not buying now?! I couldnt see I was in the whole wrong place at the time.  I guess I am.  I guess I am.  I guess I am.  I guess I am.  I guess I am.  I guess Im not buying it.  [laughs] I guess Im not buying it. [Patrick is sitting in a chair, reading a book. SpongeBob is sitting next to him, with a book in his hand, looking at the Patrick in a goofy way.]  [gasps] Patrick, I hate to interrupt your happy reunion, but I think we should postpone the reunion.  Sorry, Patrick. I just got home from work. [Patrick is reading a comic book while reading something, SpongeBob is sitting next to him, while listening to the comic book, Patrick begins to cry.]  Hey, hey, hey, hey, hey.  Oh, Patrick, I— [so much that he is dragging the chair out of his house, knocking\n",
            "====================\n",
            "Bubble transition. The camera zooms in on the chandelier, and a rainbow of glitter begins to fall from it. The camera panics, then flicks the rainbow away and onto the wall next to the chandelier, where a bunch of glitter begins to fall out] Hahahaha! [the glitter starts to fall, and we pan out to the back of the bathroom where the rainbow is starting to take its toll on the chandelier]  [SpongeBob is now the camera, and we see a wall of sparkling white diamonds] I gotta get out of here now! [the camera shows a wall of sparkling diamonds, and we see a wall of pink diamonds] Pink as a springboard! [the camera shows a wall of sparkling diamonds, and we see a wall of purple diamonds, and we see a wall of orange diamonds] Oh, oh, oh, oh, oh, oh, oh, oh, oh, oh, oh, oh, oh, oh, oh, oh, oh, oh, oh, oh, oh, [the camera shows a wall of sparkling diamonds, and we see a wall of pink diamonds, and we see a wall of barnacle heads] Oh, oh, oh, oh, oh, oh, oh, oh, oh, oh, oh, oh, oh, oh, oh, [the camera shows a wall of sparkling diamonds, and we see a wall of barnacle heads] Oh, oh, oh, oh, oh, oh, oh, oh, oh, oh, oh, oh, [the camera shows a wall of sparkling diamonds, and we see a wall of barnacle heads] Oh, oh, oh, oh, oh, oh, oh, oh, oh, oh, oh, oh, oh, oh, oh, [the camera shows a wall of sparkling diamonds, and we see a wall of barnacle heads] Oh, oh, oh, oh, oh, oh, oh, oh, oh, oh, oh, [the camera shows a wall of sparkling diamonds, and we see a wall of barnacle heads] Oh, oh, oh, oh, oh, oh, oh, oh, oh, oh, oh, oh, [the camera shows a wall of sparkling diamonds, and we see a wall of barnacle heads] Oh, oh, oh, oh, oh, oh, oh, oh, oh, [the camera shows a wall of sparkling diamonds, and we see a wall of barn\n",
            "====================\n",
            "And now for the secret formula. [opens the door] What is it?  [puts the formula in a bottle] Its a bottle of... [the door falls down] The formula.  [opens the bottle] Whats that? [puts the formula in a bigger bottle] The formula.  [puts the bigger bottle in the box of pills] The formula. [giggles]  [giggles] I think I got the formula.  [puts the bigger bottle in the box of pills] The formula. [giggles]  [giggles] I think I got the formula.  [puts the bigger bottle in the box of pills] The formula. [giggles]  [puts the bigger bottle in the box of pills] The formula. [giggles]  [puts the bigger bottle in the box of pills] The formula.  [giggles] I think I got the formula.  [puts the bottle in the box of pills] The formula.  [puts the box in the box of pills] The formula.  [puts the box in the box of pills] The formula.  [giggles in excitement] I think I got the formula!  [laughs nervously] I think I got the formula! [laughs nervously again]  [the box falls down] The formula. [gasps] Theres here! The bottle of pills! [picks up the box of pills and pours it in the bottle of pills he was holding] The formula. [gives the bottle to Patrick who giggles and hugs the box. The box falls down and Patrick puts the box in his pocket. The bottle falls in his hand. The scene changes to SpongeBob and Patrick at Sandys Treedome. SpongeBob is writing on a notepad and Patrick is writing on a piece of paper.]  [teary-eyed] I love my paper.  [teary-eyed] I dont.  [teary-eyed] I love my paper.  [teary-eyed] I love my paper.  [teary-eyed] I love my paper.  [teary-eyed] I love my paper.  [teary-eyed] I love my paper.  [teary-eyed] I love my paper.  [teary-eyed] I love my paper.  [tear\n",
            "====================\n",
            "Bubble transition. Patrick is in bed. He is tired from playing on the big record player. He sniffs the odor, but cant put his hands up. He pulls them off, but they pop off! SpongeBob, Patrick, and the record player are all out of reach nets. SpongeBob and Patrick all pop off. Patrick is all tied up except for SpongeBobs hand. SpongeBobs hand is on the small net and he pulls it off. Patrick pulls off the small net too. SpongeBobs hand gets tangled in the net. The small net falls off and Patrick pulls off the bigger net too. The record player falls off the record player. The record player falls off the other end and falls on top of SpongeBobs face. SpongeBobs hand gets tangled in it. The small net falls on top of Patrick. The big net falls on top of Squidward. The small net falls on both of them. The big net falls on the ground. The small net falls on SpongeBob. The big net falls on SpongeBob. The big net falls on SpongeBob. The net that Patrick and Patrick are on is falling off. SpongeBob screams. The big net falls on SpongeBob. The big net falls on SpongeBob. The net that SpongeBob is on is falling off. SpongeBob and Patrick are all tied up except for SpongeBobs hand. SpongeBob and Patrick all scream. The scene then shows the three laughing.]     [At the Krusty Krab. The customers are eating their meal.]  What a place!  Yeah, its pretty great. [One customer is drinking a soda. Another slurps on a cup of soda and drinks it. Another customer drinks the soda. Another customer drinks the soda. Another customer drinks the soda. Another customer sips his drink and then spits it in his mouth.]  Hey, you dont know how good this soda is. [One customer spits his soda in his mouth and then spits it back in his mouth. Then spits his soda in his own body.]  [picks up a pen and writes \"Hey, I spits my soda in Mr. Krabs body\"] Well, that was disgusting. [licks his pen and laughs] A little help here, please. [SpongeBob puts on a hat and writes \"Hey, I spits my soda in Mr. Krabs body\"]  [at the counter] Hey, you dont know how good this soda is.  [st\n",
            "====================\n"
          ],
          "name": "stdout"
        }
      ]
    },
    {
      "cell_type": "code",
      "metadata": {
        "id": "By6pVYqd2bwO",
        "outputId": "55989d94-ca6e-4e1d-a09e-637916951730",
        "colab": {
          "base_uri": "https://localhost:8080/"
        }
      },
      "source": [
        "gpt2.generate(sess,\n",
        "              length=1024,\n",
        "              seed=511999,\n",
        "              temperature=0.7,\n",
        "              nsamples=1,\n",
        "              batch_size=1,\n",
        "              prefix=\"[Spongebob is watching TV while Gary is playing with a rock.] \",\n",
        "              include_prefix=True\n",
        "              )"
      ],
      "execution_count": 20,
      "outputs": [
        {
          "output_type": "stream",
          "text": [
            "[Spongebob is watching TV while Gary is playing with a rock.]  Peek-a-boo! [Gary and SpongeBob stop playing and start snoring.]  Meow.  [laughs] [SpongeBob lifts the rock, but the rock starts going down. SpongeBob and Patrick get up.]  Oh, hey, guys. Just wanted to let you all have to- [Patrick gets up and takes out a leash.]  Can we go now?  Uh, dont worry. [SpongeBob and Patrick walk out of the restaurant.]  [laughs] [Gary and SpongeBob stop in front of a billboard that says \"Gary &amp; Patrick Snail Funeral Dining\"; Patrick whimpers.]  [offscreen] Meow.  See you tomorrow. [walks out] [Gary and SpongeBob walk in the sand.]  Gary, another goodbye. [walks out] G-7! [gets hit by sand and is buried in sand]  Meow.  [laughs] You and me in here, loathe each other. [cries and runs off while Patrick talks gibberish]  [picks up Gary and runs toward him] Gary, you morons should be ashamed. Snail prison is not for the sake of any punishment or sake of any length of my life.  [offscreen] N-1!  Oh, Patrick, if you think this is funny, I will tear you apart.  Oh, yeah, like that. [snorts] No, no, really. It will be so much fun, we wont know what prison is.  [offscreen] Meow.  Theres no such thing as a proper punishment for such a disgusting display of pet ownership. [both laugh]  [runs off and jumps on Patrick] Come on, guys. [both laugh more]  [runs back and jumps on Squidward] Hey, Squidward!  [holds on to a leash] Stay inside so I wont get hurt.  [holds on to a leash] No, no, dont get hurt.  [holds on to a leash] Okay, okay, okay, okay. [Garys eyes start to water up.]  [offscreen] M-1!  SpongeBob, Im your primary assistant [Garys eyes are starting to water up.]  [SpongeBob holds on to a leash] Okay, Gary, I can go. [goes inside the box and Garys eyes are watery-zy] Come on, SpongeBob. [tries to open the box open to find it closed] I can- [gasps] Oh, no. [gasps] Oh no. Oh no. [opens the box and drops a bowl of cereal] Oh no. Its closed. What is it?  [offscreen] Its... [gasps] The box is... [the box is about to be opened] ...closed.  [offscreen] Oh, Gary, Ill never get out of here again. [Garys eyes are watery-zy again.] [sighs]  [offscreen] Gary, what are you doing? Why... [groans and closes the box]  [offscreen] Meow.  [talks through his phone while holding on to a leash] Well, this is it. [Garys eyes are still watery-zy.]  Meow?  Gary, I got to tell you something.  Meow?  Oh, yeah, you. Ive got to tell you something.  [offscreen] Meow.  [talks through his spatula while holding on to a leash] Well, this is it. [Garys eyes are still watery-zy again.]  [talks through the ball of gum while holding on to an umbrella; he drops it on the ground and talks gibberish] [screams] [Garys eyes are still watery-y again.]  [yelps and takes the umbrella] Oh, Gary, this is more trouble than it is worth. [growls and sulks; he walks away]  [turns on the light] Good thing I have this one. [Gary does not turn on and is immediately dashed with dirt] [Gary slithers through the mud. SpongeBob looks down and sees a trail of sludge. He turns and sees Patrick, who is sitting on a couch, looking at the screen with his eyes shut. Patrick walks up to SpongeBob and reveals some weird stuff about himself.]  [offscreen] Meow! [Patrick lifts his head through the mud and shows a bunch of weird things on TV. SpongeBob and Patrick laugh. SpongeBob and Patrick continue laughing.]  [offscreen] Meow! [Patrick lifts his head through the mud and shows another strange trail of slime. They laugh at this.]  [offscreen] Meow! [Patrick shakes his head and shows a sample of the slime on the\n"
          ],
          "name": "stdout"
        }
      ]
    },
    {
      "cell_type": "markdown",
      "metadata": {
        "id": "zjjEN2Tafhl2"
      },
      "source": [
        "For bulk generation, you can generate a large amount of text to a file and sort out the samples locally on your computer. The next cell will generate a generated text file with a unique timestamp.\n",
        "\n",
        "You can rerun the cells as many times as you want for even more generated texts!"
      ]
    },
    {
      "cell_type": "code",
      "metadata": {
        "id": "Fa6p6arifSL0"
      },
      "source": [
        "gen_file = 'gpt2_gentext_{:%Y%m%d_%H%M%S}.txt'.format(datetime.utcnow())\n",
        "\n",
        "\n",
        "gpt2.generate_to_file(sess,\n",
        "              destination_path=gen_file,\n",
        "              length=1024,\n",
        "              seed=511999,\n",
        "              temperature=0.7,\n",
        "              nsamples=20,\n",
        "              batch_size=5\n",
        "              )"
      ],
      "execution_count": 14,
      "outputs": []
    },
    {
      "cell_type": "code",
      "metadata": {
        "id": "0-LRex8lfv1g",
        "outputId": "25eaf474-4e81-4b6f-c2a8-6631163e7a5f",
        "colab": {
          "base_uri": "https://localhost:8080/",
          "height": 34
        }
      },
      "source": [
        "# may have to run twice to get file to download\n",
        "files.download(gen_file)"
      ],
      "execution_count": 17,
      "outputs": [
        {
          "output_type": "display_data",
          "data": {
            "application/javascript": [
              "\n",
              "    async function download(id, filename, size) {\n",
              "      if (!google.colab.kernel.accessAllowed) {\n",
              "        return;\n",
              "      }\n",
              "      const div = document.createElement('div');\n",
              "      const label = document.createElement('label');\n",
              "      label.textContent = `Downloading \"${filename}\": `;\n",
              "      div.appendChild(label);\n",
              "      const progress = document.createElement('progress');\n",
              "      progress.max = size;\n",
              "      div.appendChild(progress);\n",
              "      document.body.appendChild(div);\n",
              "\n",
              "      const buffers = [];\n",
              "      let downloaded = 0;\n",
              "\n",
              "      const channel = await google.colab.kernel.comms.open(id);\n",
              "      // Send a message to notify the kernel that we're ready.\n",
              "      channel.send({})\n",
              "\n",
              "      for await (const message of channel.messages) {\n",
              "        // Send a message to notify the kernel that we're ready.\n",
              "        channel.send({})\n",
              "        if (message.buffers) {\n",
              "          for (const buffer of message.buffers) {\n",
              "            buffers.push(buffer);\n",
              "            downloaded += buffer.byteLength;\n",
              "            progress.value = downloaded;\n",
              "          }\n",
              "        }\n",
              "      }\n",
              "      const blob = new Blob(buffers, {type: 'application/binary'});\n",
              "      const a = document.createElement('a');\n",
              "      a.href = window.URL.createObjectURL(blob);\n",
              "      a.download = filename;\n",
              "      div.appendChild(a);\n",
              "      a.click();\n",
              "      div.remove();\n",
              "    }\n",
              "  "
            ],
            "text/plain": [
              "<IPython.core.display.Javascript object>"
            ]
          },
          "metadata": {
            "tags": []
          }
        },
        {
          "output_type": "display_data",
          "data": {
            "application/javascript": [
              "download(\"download_df6a354d-544f-4b33-92e0-ff1de828aef2\", \"gpt2_gentext_20201104_183903.txt\", 38133)"
            ],
            "text/plain": [
              "<IPython.core.display.Javascript object>"
            ]
          },
          "metadata": {
            "tags": []
          }
        }
      ]
    },
    {
      "cell_type": "markdown",
      "metadata": {
        "id": "ig-KVgkCDCKD"
      },
      "source": [
        "# Etcetera\n",
        "\n",
        "If the notebook has errors (e.g. GPU Sync Fail), force-kill the Colaboratory virtual machine and restart it with the command below:"
      ]
    },
    {
      "cell_type": "code",
      "metadata": {
        "id": "rIHiVP53FnsX"
      },
      "source": [
        "!kill -9 -1"
      ],
      "execution_count": null,
      "outputs": []
    },
    {
      "cell_type": "markdown",
      "metadata": {
        "id": "wmTXWNUygS5E"
      },
      "source": [
        "# LICENSE\n",
        "\n",
        "MIT License\n",
        "\n",
        "Copyright (c) 2020 Mikhail Gaerlan\n",
        "\n",
        "Copyright (c) 2019 Max Woolf\n",
        "\n",
        "Permission is hereby granted, free of charge, to any person obtaining a copy\n",
        "of this software and associated documentation files (the \"Software\"), to deal\n",
        "in the Software without restriction, including without limitation the rights\n",
        "to use, copy, modify, merge, publish, distribute, sublicense, and/or sell\n",
        "copies of the Software, and to permit persons to whom the Software is\n",
        "furnished to do so, subject to the following conditions:\n",
        "\n",
        "The above copyright notice and this permission notice shall be included in all\n",
        "copies or substantial portions of the Software.\n",
        "\n",
        "THE SOFTWARE IS PROVIDED \"AS IS\", WITHOUT WARRANTY OF ANY KIND, EXPRESS OR\n",
        "IMPLIED, INCLUDING BUT NOT LIMITED TO THE WARRANTIES OF MERCHANTABILITY,\n",
        "FITNESS FOR A PARTICULAR PURPOSE AND NONINFRINGEMENT. IN NO EVENT SHALL THE\n",
        "AUTHORS OR COPYRIGHT HOLDERS BE LIABLE FOR ANY CLAIM, DAMAGES OR OTHER\n",
        "LIABILITY, WHETHER IN AN ACTION OF CONTRACT, TORT OR OTHERWISE, ARISING FROM,\n",
        "OUT OF OR IN CONNECTION WITH THE SOFTWARE OR THE USE OR OTHER DEALINGS IN THE\n",
        "SOFTWARE."
      ]
    }
  ]
}