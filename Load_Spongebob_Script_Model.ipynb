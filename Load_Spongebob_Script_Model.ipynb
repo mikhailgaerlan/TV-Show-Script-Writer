{
  "nbformat": 4,
  "nbformat_minor": 0,
  "metadata": {
    "colab": {
      "name": "Load Spongebob Script Model",
      "provenance": [],
      "collapsed_sections": [],
      "include_colab_link": true
    },
    "kernelspec": {
      "name": "python3",
      "display_name": "Python 3"
    },
    "accelerator": "GPU"
  },
  "cells": [
    {
      "cell_type": "markdown",
      "metadata": {
        "id": "view-in-github",
        "colab_type": "text"
      },
      "source": [
        "<a href=\"https://colab.research.google.com/github/mikhailgaerlan/TV-Show-Script-Writer/blob/master/Load_Spongebob_Script_Model.ipynb\" target=\"_parent\"><img src=\"https://colab.research.google.com/assets/colab-badge.svg\" alt=\"Open In Colab\"/></a>"
      ]
    },
    {
      "cell_type": "markdown",
      "metadata": {
        "id": "xA5DO8Tmgx1N"
      },
      "source": [
        "# TV Show Script Generator\n",
        "\n",
        "Generating scripts from a `gpt-2-simple` model finetuned on Spongebob Squarepants television show scripts scraped from Transcripts Wiki\n",
        "\n",
        "by [Mikhail Gaerlan](https://www.math.ucdavis.edu/~mgaerlan)\n",
        "\n",
        "Last updated: November 5, 2020\n",
        "\n",
        "Based on work by [Max Woolf](http://minimaxir.com)\n",
        "\n",
        "Please check out the original copy first [here](https://www.google.com/url?sa=t&rct=j&q=&esrc=s&source=web&cd=&cad=rja&uact=8&ved=2ahUKEwijivWvwunsAhVGlVkKHQIkDG4QFjAAegQIBhAC&url=https%3A%2F%2Fcolab.research.google.com%2Fdrive%2F1VLG8e7YSEwypxU-noRNhsv5dW4NfTGce&usg=AOvVaw3W9t1DOZAaccv3zapLUhge)."
      ]
    },
    {
      "cell_type": "markdown",
      "metadata": {
        "id": "EIrMR7_Jc5y9"
      },
      "source": [
        "## Installation and Version Requirements\n",
        "\n",
        "GPT 2 Simple Requires Tensorflow 1.14/1.15 which is not supported above Python 3.8"
      ]
    },
    {
      "cell_type": "code",
      "metadata": {
        "id": "pkFUmFP4b1Hj",
        "outputId": "b1396154-d769-4e4d-8879-3e39c8df034a",
        "colab": {
          "base_uri": "https://localhost:8080/"
        }
      },
      "source": [
        "from platform import python_version\n",
        "print(python_version())"
      ],
      "execution_count": 1,
      "outputs": [
        {
          "output_type": "stream",
          "text": [
            "3.6.9\n"
          ],
          "name": "stdout"
        }
      ]
    },
    {
      "cell_type": "code",
      "metadata": {
        "id": "KBkpRgBCBS2_",
        "outputId": "cd4bcc4c-51cd-446c-d4a4-737a2f3b266c",
        "colab": {
          "base_uri": "https://localhost:8080/"
        }
      },
      "source": [
        "%tensorflow_version 1.x\n",
        "!pip install -q gpt-2-simple\n",
        "import gpt_2_simple as gpt2\n",
        "from datetime import datetime\n",
        "from google.colab import files"
      ],
      "execution_count": 2,
      "outputs": [
        {
          "output_type": "stream",
          "text": [
            "TensorFlow 1.x selected.\n",
            "  Building wheel for gpt-2-simple (setup.py) ... \u001b[?25l\u001b[?25hdone\n",
            "WARNING:tensorflow:\n",
            "The TensorFlow contrib module will not be included in TensorFlow 2.0.\n",
            "For more information, please see:\n",
            "  * https://github.com/tensorflow/community/blob/master/rfcs/20180907-contrib-sunset.md\n",
            "  * https://github.com/tensorflow/addons\n",
            "  * https://github.com/tensorflow/io (for I/O related ops)\n",
            "If you depend on functionality not listed there, please file an issue.\n",
            "\n"
          ],
          "name": "stdout"
        }
      ]
    },
    {
      "cell_type": "code",
      "metadata": {
        "id": "9zN1f74Pb61v",
        "outputId": "2e2715c7-ed32-4a9e-8b69-094ae224bb67",
        "colab": {
          "base_uri": "https://localhost:8080/",
          "height": 37
        }
      },
      "source": [
        "import tensorflow as tf\n",
        "tf.__version__"
      ],
      "execution_count": 3,
      "outputs": [
        {
          "output_type": "execute_result",
          "data": {
            "application/vnd.google.colaboratory.intrinsic+json": {
              "type": "string"
            },
            "text/plain": [
              "'1.15.2'"
            ]
          },
          "metadata": {
            "tags": []
          },
          "execution_count": 3
        }
      ]
    },
    {
      "cell_type": "code",
      "metadata": {
        "id": "sUmTooTW3osf",
        "outputId": "3eac92c9-37b1-4438-a21b-f0df3ef089fa",
        "colab": {
          "base_uri": "https://localhost:8080/"
        }
      },
      "source": [
        "!nvidia-smi"
      ],
      "execution_count": 4,
      "outputs": [
        {
          "output_type": "stream",
          "text": [
            "Thu Nov  5 05:06:31 2020       \n",
            "+-----------------------------------------------------------------------------+\n",
            "| NVIDIA-SMI 455.32.00    Driver Version: 418.67       CUDA Version: 10.1     |\n",
            "|-------------------------------+----------------------+----------------------+\n",
            "| GPU  Name        Persistence-M| Bus-Id        Disp.A | Volatile Uncorr. ECC |\n",
            "| Fan  Temp  Perf  Pwr:Usage/Cap|         Memory-Usage | GPU-Util  Compute M. |\n",
            "|                               |                      |               MIG M. |\n",
            "|===============================+======================+======================|\n",
            "|   0  Tesla T4            Off  | 00000000:00:04.0 Off |                    0 |\n",
            "| N/A   44C    P8     9W /  70W |      0MiB / 15079MiB |      0%      Default |\n",
            "|                               |                      |                 ERR! |\n",
            "+-------------------------------+----------------------+----------------------+\n",
            "                                                                               \n",
            "+-----------------------------------------------------------------------------+\n",
            "| Processes:                                                                  |\n",
            "|  GPU   GI   CI        PID   Type   Process name                  GPU Memory |\n",
            "|        ID   ID                                                   Usage      |\n",
            "|=============================================================================|\n",
            "|  No running processes found                                                 |\n",
            "+-----------------------------------------------------------------------------+\n"
          ],
          "name": "stdout"
        }
      ]
    },
    {
      "cell_type": "markdown",
      "metadata": {
        "id": "0wXB05bPDYxS"
      },
      "source": [
        "## Downloading GPT-2\n",
        "\n",
        "* `124M` (default): the \"small\" model, 500MB on disk.\n",
        "* `355M`: the \"medium\" model, 1.5GB on disk.\n",
        "* `774M`: the \"large\" model, cannot currently be finetuned with Colaboratory but can be used to generate text from the pretrained model (see later in Notebook)\n",
        "* `1558M`: the \"extra large\", true model. Will not work if a K80 GPU is attached to the notebook. (like `774M`, it cannot be finetuned)."
      ]
    },
    {
      "cell_type": "code",
      "metadata": {
        "id": "P8wSlgXoDPCR",
        "outputId": "2fadef64-34df-4550-930b-6ded72094569",
        "colab": {
          "base_uri": "https://localhost:8080/"
        }
      },
      "source": [
        "gpt2.download_gpt2(model_name=\"124M\")"
      ],
      "execution_count": 5,
      "outputs": [
        {
          "output_type": "stream",
          "text": [
            "Fetching checkpoint: 1.05Mit [00:00, 671Mit/s]                                                      \n",
            "Fetching encoder.json: 1.05Mit [00:00, 106Mit/s]                                                    \n",
            "Fetching hparams.json: 1.05Mit [00:00, 414Mit/s]                                                    \n",
            "Fetching model.ckpt.data-00000-of-00001: 498Mit [00:08, 60.6Mit/s]                                  \n",
            "Fetching model.ckpt.index: 1.05Mit [00:00, 321Mit/s]                                                \n",
            "Fetching model.ckpt.meta: 1.05Mit [00:00, 135Mit/s]                                                 \n",
            "Fetching vocab.bpe: 1.05Mit [00:00, 194Mit/s]                                                       \n"
          ],
          "name": "stderr"
        }
      ]
    },
    {
      "cell_type": "markdown",
      "metadata": {
        "id": "N8KXuKWzQSsN"
      },
      "source": [
        "## Mounting Google Drive"
      ]
    },
    {
      "cell_type": "code",
      "metadata": {
        "id": "puq4iC6vUAHc",
        "outputId": "08f42d39-7d81-4067-aa8c-e6aad9e65938",
        "colab": {
          "base_uri": "https://localhost:8080/"
        }
      },
      "source": [
        "gpt2.mount_gdrive()"
      ],
      "execution_count": 6,
      "outputs": [
        {
          "output_type": "stream",
          "text": [
            "Mounted at /content/drive\n"
          ],
          "name": "stdout"
        }
      ]
    },
    {
      "cell_type": "markdown",
      "metadata": {
        "id": "pel-uBULXO2L"
      },
      "source": [
        "## Load a Trained Model Checkpoint\n",
        "\n",
        "Running the next cell will copy the `.rar` checkpoint file from your Google Drive into the Colaboratory VM."
      ]
    },
    {
      "cell_type": "code",
      "metadata": {
        "id": "DCcx5u7sbPTD"
      },
      "source": [
        "gpt2.copy_checkpoint_from_gdrive(run_name='run1')"
      ],
      "execution_count": 7,
      "outputs": []
    },
    {
      "cell_type": "markdown",
      "metadata": {
        "id": "RTa6zf3e_9gV"
      },
      "source": [
        "The next cell will allow you to load the retrained model checkpoint + metadata necessary to generate text.\n",
        "\n",
        "**IMPORTANT NOTE:** If you want to rerun this cell, **restart the VM first** (Runtime -> Restart Runtime). You will need to rerun imports but not recopy files."
      ]
    },
    {
      "cell_type": "code",
      "metadata": {
        "id": "-fxL77nvAMAX",
        "outputId": "70ce87c8-7758-490c-85d7-0c064e1949f3",
        "colab": {
          "base_uri": "https://localhost:8080/"
        }
      },
      "source": [
        "sess = gpt2.start_tf_sess()\n",
        "gpt2.load_gpt2(sess, run_name='run1')"
      ],
      "execution_count": 8,
      "outputs": [
        {
          "output_type": "stream",
          "text": [
            "Loading checkpoint checkpoint/run1/model-2000\n",
            "INFO:tensorflow:Restoring parameters from checkpoint/run1/model-2000\n"
          ],
          "name": "stdout"
        }
      ]
    },
    {
      "cell_type": "markdown",
      "metadata": {
        "id": "ClJwpF_ACONp"
      },
      "source": [
        "## Generate Text From The Trained Model\n",
        "\n",
        "After you've trained the model or loaded a retrained model from checkpoint, you can now generate text. `generate` generates a single text from the loaded model.\n",
        "\n",
        "Other optional-but-helpful parameters for `gpt2.generate` and friends:\n",
        "\n",
        "*  **`length`**: Number of tokens to generate (default 1023, the maximum)\n",
        "* **`temperature`**: The higher the temperature, the crazier the text (default 0.7, recommended to keep between 0.7 and 1.0)\n",
        "* **`top_k`**: Limits the generated guesses to the top *k* guesses (default 0 which disables the behavior; if the generated output is super crazy, you may want to set `top_k=40`)\n",
        "* **`top_p`**: Nucleus sampling: limits the generated guesses to a cumulative probability. (gets good results on a dataset with `top_p=0.9`)\n",
        "* **`truncate`**: Truncates the input text until a given sequence, excluding that sequence (e.g. if `truncate='<|endoftext|>'`, the returned text will include everything before the first `<|endoftext|>`). It may be useful to combine this with a smaller `length` if the input texts are short.\n",
        "*  **`include_prefix`**: If using `truncate` and `include_prefix=False`, the specified `prefix` will not be included in the returned text."
      ]
    },
    {
      "cell_type": "code",
      "metadata": {
        "id": "By6pVYqd2bwO",
        "outputId": "70673240-eb40-4b2f-d205-081eefdd65d0",
        "colab": {
          "base_uri": "https://localhost:8080/"
        }
      },
      "source": [
        "gpt2.generate(sess,\n",
        "              length=1024,\n",
        "              seed=511999,\n",
        "              temperature=0.7,\n",
        "              nsamples=1,\n",
        "              batch_size=1,\n",
        "              prefix=\"[Spongebob is watching TV while Gary is playing with a rock.] \",\n",
        "              include_prefix=True\n",
        "              )"
      ],
      "execution_count": 9,
      "outputs": [
        {
          "output_type": "stream",
          "text": [
            "[Spongebob is watching TV while Gary is playing with a rock.]  [screams] Gary!  [screams] [Gary is playing with an umbrella and SpongeBob is watching from above. SpongeBob and Gary are sitting in the picnic area, waiting for something.]  [screams] Gary! [Gary is playing with an umbrella] Hey, Gary, wait up! [SpongeBob and Gary are pushed to the edge of the area. SpongeBob slides down, hits a button and goes back up. They see a huge, wide-screened, red giant monster with a green shirt and square eyes. SpongeBob takes off his shirt and puts it over his square eyes, thinking it looks like the giant hand puppet. But, in reality, it was actually just a guard worm.] Giant Hand Pies: Oh, yeah, thats the most realistic explanation I could think of. [laughs]  [screams] [The giant hand puppet looks horrified. The guard worm slithers down towards SpongeBob and grumbles in disgust. A part of SpongeBobs eye lands on the giant hand puppet eye. SpongeBob giggles and slithers off. He looks over and sees Gary.]  [screams] Gary! [Gary crawls towards SpongeBob.]  [screams] [Gary crawls towards SpongeBob.]  [screams] [Gary escapes from the guard worm.]  [screams] [Gary goes towards SpongeBob.]  No! [SpongeBob and Gary are both kicked out and pelted with water until they are up to no good. A yellow sponge comes in and whacks the guard worm with it. The guard worm slithers down to SpongeBob and whacks him with his umbrella.]  [gasps] Meow. [Garys slime trail leads him to the butterfly net.]  [sighs] I really have to get these things fixed. [The butterfly net tears in half and Gary slithers towards the giant hand puppet. The guard worm slithers towards SpongeBob.]  [gasps and slithers away] Oh, no. [picks up the giant hand puppet and laughs with it] My new net. [throws it away] [Gary slithers towards SpongeBob. He whacks the guard worm with his net. SpongeBob goes up to the giant hand puppet and sees a giant hand puppet version of Plankton.]  [wipes off his hand] Sorry, Gary, but my new net is completely harmless. [holds up a mirror] See? [Gary looks at the guard worm and sees Plankton.]  [wipes off his hand] Meow. [The guard worm sees Gary and slithers towards SpongeBob. They both get into positions so close together, they could be out of breath. SpongeBob keeps his mouth shut.]  [pupils happy now] Its good to see you both again, Gary! [sees the butterfly net] [Gary and the guard worm are seen playing their instruments as they go on the horseback. The guard worm runs off and Gary yelps. The guard worm then snatches the guard worm and holds it above his head. The horseback rider comes back and slithers towards the worm and pulls it off his long neck. Gary slides off the guard worm and sees Plankton.]  [wiping off his tentacle] Aw, forget it. Thats my permanent abject servitude. [pupils cry as the guard worm flies in his mouth and eats the blanket. Gary slithers towards Plankton.]  [wiping off his eye] Meow. [Gary and the guard worm are now on the run from the worm. The worm jumps onto the worm and slithers towards Gary.]  [running alongside Gary] Meow. [worm chases them into a bush. Gary slithers towards Planktons house.]  [screams] Meow. [worm chases them into the night. The worm runs out of the bush. A scallop crows like a rooster.]  [wipes the sweat off his forehead] Meow. [worm appears pacing back and forth in the bush. The guard worm chases after more scallops. The screen zooms over to the guards house, where Bubble Bass is sitting in the front window. He is sniffing a bit.]  [screams] [The screen zooms out to reveal Bubble Bass hiding in the closet. He opens the closet door, but gets splattered with a bug! He screams and runs away. The screen zooms back in to see Bubble Bass hiding in the closet again. He opens the closet door, but gets splattered with a bug! He screams and runs away. The screen zooms back in to see Bubble Bass in the lamp before the oven. He faints back in the kitchen. Bubble Bass slithers to the back of the\n"
          ],
          "name": "stdout"
        }
      ]
    },
    {
      "cell_type": "markdown",
      "metadata": {
        "id": "ig-KVgkCDCKD"
      },
      "source": [
        "# Etcetera\n",
        "\n",
        "If the notebook has errors (e.g. GPU Sync Fail), force-kill the Colaboratory virtual machine and restart it with the command below:"
      ]
    },
    {
      "cell_type": "code",
      "metadata": {
        "id": "rIHiVP53FnsX"
      },
      "source": [
        "!kill -9 -1"
      ],
      "execution_count": null,
      "outputs": []
    },
    {
      "cell_type": "markdown",
      "metadata": {
        "id": "wmTXWNUygS5E"
      },
      "source": [
        "# LICENSE\n",
        "\n",
        "MIT License\n",
        "\n",
        "Copyright (c) 2020 Mikhail Gaerlan\n",
        "\n",
        "Permission is hereby granted, free of charge, to any person obtaining a copy\n",
        "of this software and associated documentation files (the \"Software\"), to deal\n",
        "in the Software without restriction, including without limitation the rights\n",
        "to use, copy, modify, merge, publish, distribute, sublicense, and/or sell\n",
        "copies of the Software, and to permit persons to whom the Software is\n",
        "furnished to do so, subject to the following conditions:\n",
        "\n",
        "The above copyright notice and this permission notice shall be included in all\n",
        "copies or substantial portions of the Software.\n",
        "\n",
        "THE SOFTWARE IS PROVIDED \"AS IS\", WITHOUT WARRANTY OF ANY KIND, EXPRESS OR\n",
        "IMPLIED, INCLUDING BUT NOT LIMITED TO THE WARRANTIES OF MERCHANTABILITY,\n",
        "FITNESS FOR A PARTICULAR PURPOSE AND NONINFRINGEMENT. IN NO EVENT SHALL THE\n",
        "AUTHORS OR COPYRIGHT HOLDERS BE LIABLE FOR ANY CLAIM, DAMAGES OR OTHER\n",
        "LIABILITY, WHETHER IN AN ACTION OF CONTRACT, TORT OR OTHERWISE, ARISING FROM,\n",
        "OUT OF OR IN CONNECTION WITH THE SOFTWARE OR THE USE OR OTHER DEALINGS IN THE\n",
        "SOFTWARE."
      ]
    },
    {
      "cell_type": "code",
      "metadata": {
        "id": "wGd5XNtM1DwS"
      },
      "source": [
        ""
      ],
      "execution_count": null,
      "outputs": []
    }
  ]
}